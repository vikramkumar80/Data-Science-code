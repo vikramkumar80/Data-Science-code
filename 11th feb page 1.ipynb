{
 "cells": [
  {
   "cell_type": "markdown",
   "metadata": {},
   "source": [
    "# convert pandas python into dictonary"
   ]
  },
  {
   "cell_type": "code",
   "execution_count": 1,
   "metadata": {},
   "outputs": [],
   "source": [
    "import pandas as pd"
   ]
  },
  {
   "cell_type": "code",
   "execution_count": null,
   "metadata": {},
   "outputs": [],
   "source": [
    "pokemon_name=pd.read_csv(\"pokemon.csv\",usecols=[\"pokemon\"],squeeze=True)"
   ]
  },
  {
   "cell_type": "markdown",
   "metadata": {},
   "source": [
    "# data frame shared method & athibute"
   ]
  },
  {
   "cell_type": "code",
   "execution_count": 2,
   "metadata": {},
   "outputs": [],
   "source": [
    "import pandas as pd"
   ]
  },
  {
   "cell_type": "code",
   "execution_count": 3,
   "metadata": {},
   "outputs": [],
   "source": [
    "A=pd.read_csv(\"nba.csv\")"
   ]
  },
  {
   "cell_type": "code",
   "execution_count": 4,
   "metadata": {},
   "outputs": [
    {
     "data": {
      "text/plain": [
       "<bound method NDFrame.head of                         Name                    Team  Number Position   Age  \\\n",
       "0              Avery Bradley          Boston Celtics     0.0       PG  25.0   \n",
       "1                Jae Crowder          Boston Celtics    99.0       SF  25.0   \n",
       "2               John Holland          Boston Celtics    30.0       SG  27.0   \n",
       "3                R.J. Hunter          Boston Celtics    28.0       SG  22.0   \n",
       "4              Jonas Jerebko          Boston Celtics     8.0       PF  29.0   \n",
       "5               Amir Johnson          Boston Celtics    90.0       PF  29.0   \n",
       "6              Jordan Mickey          Boston Celtics    55.0       PF  21.0   \n",
       "7               Kelly Olynyk          Boston Celtics    41.0        C  25.0   \n",
       "8               Terry Rozier          Boston Celtics    12.0       PG  22.0   \n",
       "9               Marcus Smart          Boston Celtics    36.0       PG  22.0   \n",
       "10           Jared Sullinger          Boston Celtics     7.0        C  24.0   \n",
       "11             Isaiah Thomas          Boston Celtics     4.0       PG  27.0   \n",
       "12               Evan Turner          Boston Celtics    11.0       SG  27.0   \n",
       "13               James Young          Boston Celtics    13.0       SG  20.0   \n",
       "14              Tyler Zeller          Boston Celtics    44.0        C  26.0   \n",
       "15          Bojan Bogdanovic           Brooklyn Nets    44.0       SG  27.0   \n",
       "16              Markel Brown           Brooklyn Nets    22.0       SG  24.0   \n",
       "17           Wayne Ellington           Brooklyn Nets    21.0       SG  28.0   \n",
       "18   Rondae Hollis-Jefferson           Brooklyn Nets    24.0       SG  21.0   \n",
       "19              Jarrett Jack           Brooklyn Nets     2.0       PG  32.0   \n",
       "20            Sergey Karasev           Brooklyn Nets    10.0       SG  22.0   \n",
       "21           Sean Kilpatrick           Brooklyn Nets     6.0       SG  26.0   \n",
       "22              Shane Larkin           Brooklyn Nets     0.0       PG  23.0   \n",
       "23               Brook Lopez           Brooklyn Nets    11.0        C  28.0   \n",
       "24          Chris McCullough           Brooklyn Nets     1.0       PF  21.0   \n",
       "25               Willie Reed           Brooklyn Nets    33.0       PF  26.0   \n",
       "26           Thomas Robinson           Brooklyn Nets    41.0       PF  25.0   \n",
       "27                Henry Sims           Brooklyn Nets    14.0        C  26.0   \n",
       "28              Donald Sloan           Brooklyn Nets    15.0       PG  28.0   \n",
       "29            Thaddeus Young           Brooklyn Nets    30.0       PF  27.0   \n",
       "..                       ...                     ...     ...      ...   ...   \n",
       "428          Al-Farouq Aminu  Portland Trail Blazers     8.0       SF  25.0   \n",
       "429          Pat Connaughton  Portland Trail Blazers     5.0       SG  23.0   \n",
       "430             Allen Crabbe  Portland Trail Blazers    23.0       SG  24.0   \n",
       "431                 Ed Davis  Portland Trail Blazers    17.0        C  27.0   \n",
       "432         Maurice Harkless  Portland Trail Blazers     4.0       SF  23.0   \n",
       "433         Gerald Henderson  Portland Trail Blazers     9.0       SG  28.0   \n",
       "434              Chris Kaman  Portland Trail Blazers    35.0        C  34.0   \n",
       "435           Meyers Leonard  Portland Trail Blazers    11.0       PF  24.0   \n",
       "436           Damian Lillard  Portland Trail Blazers     0.0       PG  25.0   \n",
       "437            C.J. McCollum  Portland Trail Blazers     3.0       SG  24.0   \n",
       "438             Luis Montero  Portland Trail Blazers    44.0       SG  23.0   \n",
       "439            Mason Plumlee  Portland Trail Blazers    24.0        C  26.0   \n",
       "440            Brian Roberts  Portland Trail Blazers     2.0       PG  30.0   \n",
       "441              Noah Vonleh  Portland Trail Blazers    21.0       PF  20.0   \n",
       "442            Trevor Booker               Utah Jazz    33.0       PF  28.0   \n",
       "443               Trey Burke               Utah Jazz     3.0       PG  23.0   \n",
       "444               Alec Burks               Utah Jazz    10.0       SG  24.0   \n",
       "445               Dante Exum               Utah Jazz    11.0       PG  20.0   \n",
       "446           Derrick Favors               Utah Jazz    15.0       PF  24.0   \n",
       "447              Rudy Gobert               Utah Jazz    27.0        C  23.0   \n",
       "448           Gordon Hayward               Utah Jazz    20.0       SF  26.0   \n",
       "449              Rodney Hood               Utah Jazz     5.0       SG  23.0   \n",
       "450               Joe Ingles               Utah Jazz     2.0       SF  28.0   \n",
       "451            Chris Johnson               Utah Jazz    23.0       SF  26.0   \n",
       "452               Trey Lyles               Utah Jazz    41.0       PF  20.0   \n",
       "453             Shelvin Mack               Utah Jazz     8.0       PG  26.0   \n",
       "454                Raul Neto               Utah Jazz    25.0       PG  24.0   \n",
       "455             Tibor Pleiss               Utah Jazz    21.0        C  26.0   \n",
       "456              Jeff Withey               Utah Jazz    24.0        C  26.0   \n",
       "457                      NaN                     NaN     NaN      NaN   NaN   \n",
       "\n",
       "    Height  Weight            College      Salary  \n",
       "0      6-2   180.0              Texas   7730337.0  \n",
       "1      6-6   235.0          Marquette   6796117.0  \n",
       "2      6-5   205.0  Boston University         NaN  \n",
       "3      6-5   185.0      Georgia State   1148640.0  \n",
       "4     6-10   231.0                NaN   5000000.0  \n",
       "5      6-9   240.0                NaN  12000000.0  \n",
       "6      6-8   235.0                LSU   1170960.0  \n",
       "7      7-0   238.0            Gonzaga   2165160.0  \n",
       "8      6-2   190.0         Louisville   1824360.0  \n",
       "9      6-4   220.0     Oklahoma State   3431040.0  \n",
       "10     6-9   260.0         Ohio State   2569260.0  \n",
       "11     5-9   185.0         Washington   6912869.0  \n",
       "12     6-7   220.0         Ohio State   3425510.0  \n",
       "13     6-6   215.0           Kentucky   1749840.0  \n",
       "14     7-0   253.0     North Carolina   2616975.0  \n",
       "15     6-8   216.0                NaN   3425510.0  \n",
       "16     6-3   190.0     Oklahoma State    845059.0  \n",
       "17     6-4   200.0     North Carolina   1500000.0  \n",
       "18     6-7   220.0            Arizona   1335480.0  \n",
       "19     6-3   200.0       Georgia Tech   6300000.0  \n",
       "20     6-7   208.0                NaN   1599840.0  \n",
       "21     6-4   219.0         Cincinnati    134215.0  \n",
       "22    5-11   175.0         Miami (FL)   1500000.0  \n",
       "23     7-0   275.0           Stanford  19689000.0  \n",
       "24    6-11   200.0           Syracuse   1140240.0  \n",
       "25    6-10   220.0        Saint Louis    947276.0  \n",
       "26    6-10   237.0             Kansas    981348.0  \n",
       "27    6-10   248.0         Georgetown    947276.0  \n",
       "28     6-3   205.0          Texas A&M    947276.0  \n",
       "29     6-8   221.0       Georgia Tech  11235955.0  \n",
       "..     ...     ...                ...         ...  \n",
       "428    6-9   215.0        Wake Forest   8042895.0  \n",
       "429    6-5   206.0         Notre Dame    625093.0  \n",
       "430    6-6   210.0         California    947276.0  \n",
       "431   6-10   240.0     North Carolina   6980802.0  \n",
       "432    6-9   215.0         St. John's   2894059.0  \n",
       "433    6-5   215.0               Duke   6000000.0  \n",
       "434    7-0   265.0   Central Michigan   5016000.0  \n",
       "435    7-1   245.0           Illinois   3075880.0  \n",
       "436    6-3   195.0        Weber State   4236287.0  \n",
       "437    6-4   200.0             Lehigh   2525160.0  \n",
       "438    6-7   185.0     Westchester CC    525093.0  \n",
       "439   6-11   235.0               Duke   1415520.0  \n",
       "440    6-1   173.0             Dayton   2854940.0  \n",
       "441    6-9   240.0            Indiana   2637720.0  \n",
       "442    6-8   228.0            Clemson   4775000.0  \n",
       "443    6-1   191.0           Michigan   2658240.0  \n",
       "444    6-6   214.0           Colorado   9463484.0  \n",
       "445    6-6   190.0                NaN   3777720.0  \n",
       "446   6-10   265.0       Georgia Tech  12000000.0  \n",
       "447    7-1   245.0                NaN   1175880.0  \n",
       "448    6-8   226.0             Butler  15409570.0  \n",
       "449    6-8   206.0               Duke   1348440.0  \n",
       "450    6-8   226.0                NaN   2050000.0  \n",
       "451    6-6   206.0             Dayton    981348.0  \n",
       "452   6-10   234.0           Kentucky   2239800.0  \n",
       "453    6-3   203.0             Butler   2433333.0  \n",
       "454    6-1   179.0                NaN    900000.0  \n",
       "455    7-3   256.0                NaN   2900000.0  \n",
       "456    7-0   231.0             Kansas    947276.0  \n",
       "457    NaN     NaN                NaN         NaN  \n",
       "\n",
       "[458 rows x 9 columns]>"
      ]
     },
     "execution_count": 4,
     "metadata": {},
     "output_type": "execute_result"
    }
   ],
   "source": [
    "A.head"
   ]
  },
  {
   "cell_type": "code",
   "execution_count": 5,
   "metadata": {},
   "outputs": [
    {
     "data": {
      "text/plain": [
       "<bound method NDFrame.tail of                         Name                    Team  Number Position   Age  \\\n",
       "0              Avery Bradley          Boston Celtics     0.0       PG  25.0   \n",
       "1                Jae Crowder          Boston Celtics    99.0       SF  25.0   \n",
       "2               John Holland          Boston Celtics    30.0       SG  27.0   \n",
       "3                R.J. Hunter          Boston Celtics    28.0       SG  22.0   \n",
       "4              Jonas Jerebko          Boston Celtics     8.0       PF  29.0   \n",
       "5               Amir Johnson          Boston Celtics    90.0       PF  29.0   \n",
       "6              Jordan Mickey          Boston Celtics    55.0       PF  21.0   \n",
       "7               Kelly Olynyk          Boston Celtics    41.0        C  25.0   \n",
       "8               Terry Rozier          Boston Celtics    12.0       PG  22.0   \n",
       "9               Marcus Smart          Boston Celtics    36.0       PG  22.0   \n",
       "10           Jared Sullinger          Boston Celtics     7.0        C  24.0   \n",
       "11             Isaiah Thomas          Boston Celtics     4.0       PG  27.0   \n",
       "12               Evan Turner          Boston Celtics    11.0       SG  27.0   \n",
       "13               James Young          Boston Celtics    13.0       SG  20.0   \n",
       "14              Tyler Zeller          Boston Celtics    44.0        C  26.0   \n",
       "15          Bojan Bogdanovic           Brooklyn Nets    44.0       SG  27.0   \n",
       "16              Markel Brown           Brooklyn Nets    22.0       SG  24.0   \n",
       "17           Wayne Ellington           Brooklyn Nets    21.0       SG  28.0   \n",
       "18   Rondae Hollis-Jefferson           Brooklyn Nets    24.0       SG  21.0   \n",
       "19              Jarrett Jack           Brooklyn Nets     2.0       PG  32.0   \n",
       "20            Sergey Karasev           Brooklyn Nets    10.0       SG  22.0   \n",
       "21           Sean Kilpatrick           Brooklyn Nets     6.0       SG  26.0   \n",
       "22              Shane Larkin           Brooklyn Nets     0.0       PG  23.0   \n",
       "23               Brook Lopez           Brooklyn Nets    11.0        C  28.0   \n",
       "24          Chris McCullough           Brooklyn Nets     1.0       PF  21.0   \n",
       "25               Willie Reed           Brooklyn Nets    33.0       PF  26.0   \n",
       "26           Thomas Robinson           Brooklyn Nets    41.0       PF  25.0   \n",
       "27                Henry Sims           Brooklyn Nets    14.0        C  26.0   \n",
       "28              Donald Sloan           Brooklyn Nets    15.0       PG  28.0   \n",
       "29            Thaddeus Young           Brooklyn Nets    30.0       PF  27.0   \n",
       "..                       ...                     ...     ...      ...   ...   \n",
       "428          Al-Farouq Aminu  Portland Trail Blazers     8.0       SF  25.0   \n",
       "429          Pat Connaughton  Portland Trail Blazers     5.0       SG  23.0   \n",
       "430             Allen Crabbe  Portland Trail Blazers    23.0       SG  24.0   \n",
       "431                 Ed Davis  Portland Trail Blazers    17.0        C  27.0   \n",
       "432         Maurice Harkless  Portland Trail Blazers     4.0       SF  23.0   \n",
       "433         Gerald Henderson  Portland Trail Blazers     9.0       SG  28.0   \n",
       "434              Chris Kaman  Portland Trail Blazers    35.0        C  34.0   \n",
       "435           Meyers Leonard  Portland Trail Blazers    11.0       PF  24.0   \n",
       "436           Damian Lillard  Portland Trail Blazers     0.0       PG  25.0   \n",
       "437            C.J. McCollum  Portland Trail Blazers     3.0       SG  24.0   \n",
       "438             Luis Montero  Portland Trail Blazers    44.0       SG  23.0   \n",
       "439            Mason Plumlee  Portland Trail Blazers    24.0        C  26.0   \n",
       "440            Brian Roberts  Portland Trail Blazers     2.0       PG  30.0   \n",
       "441              Noah Vonleh  Portland Trail Blazers    21.0       PF  20.0   \n",
       "442            Trevor Booker               Utah Jazz    33.0       PF  28.0   \n",
       "443               Trey Burke               Utah Jazz     3.0       PG  23.0   \n",
       "444               Alec Burks               Utah Jazz    10.0       SG  24.0   \n",
       "445               Dante Exum               Utah Jazz    11.0       PG  20.0   \n",
       "446           Derrick Favors               Utah Jazz    15.0       PF  24.0   \n",
       "447              Rudy Gobert               Utah Jazz    27.0        C  23.0   \n",
       "448           Gordon Hayward               Utah Jazz    20.0       SF  26.0   \n",
       "449              Rodney Hood               Utah Jazz     5.0       SG  23.0   \n",
       "450               Joe Ingles               Utah Jazz     2.0       SF  28.0   \n",
       "451            Chris Johnson               Utah Jazz    23.0       SF  26.0   \n",
       "452               Trey Lyles               Utah Jazz    41.0       PF  20.0   \n",
       "453             Shelvin Mack               Utah Jazz     8.0       PG  26.0   \n",
       "454                Raul Neto               Utah Jazz    25.0       PG  24.0   \n",
       "455             Tibor Pleiss               Utah Jazz    21.0        C  26.0   \n",
       "456              Jeff Withey               Utah Jazz    24.0        C  26.0   \n",
       "457                      NaN                     NaN     NaN      NaN   NaN   \n",
       "\n",
       "    Height  Weight            College      Salary  \n",
       "0      6-2   180.0              Texas   7730337.0  \n",
       "1      6-6   235.0          Marquette   6796117.0  \n",
       "2      6-5   205.0  Boston University         NaN  \n",
       "3      6-5   185.0      Georgia State   1148640.0  \n",
       "4     6-10   231.0                NaN   5000000.0  \n",
       "5      6-9   240.0                NaN  12000000.0  \n",
       "6      6-8   235.0                LSU   1170960.0  \n",
       "7      7-0   238.0            Gonzaga   2165160.0  \n",
       "8      6-2   190.0         Louisville   1824360.0  \n",
       "9      6-4   220.0     Oklahoma State   3431040.0  \n",
       "10     6-9   260.0         Ohio State   2569260.0  \n",
       "11     5-9   185.0         Washington   6912869.0  \n",
       "12     6-7   220.0         Ohio State   3425510.0  \n",
       "13     6-6   215.0           Kentucky   1749840.0  \n",
       "14     7-0   253.0     North Carolina   2616975.0  \n",
       "15     6-8   216.0                NaN   3425510.0  \n",
       "16     6-3   190.0     Oklahoma State    845059.0  \n",
       "17     6-4   200.0     North Carolina   1500000.0  \n",
       "18     6-7   220.0            Arizona   1335480.0  \n",
       "19     6-3   200.0       Georgia Tech   6300000.0  \n",
       "20     6-7   208.0                NaN   1599840.0  \n",
       "21     6-4   219.0         Cincinnati    134215.0  \n",
       "22    5-11   175.0         Miami (FL)   1500000.0  \n",
       "23     7-0   275.0           Stanford  19689000.0  \n",
       "24    6-11   200.0           Syracuse   1140240.0  \n",
       "25    6-10   220.0        Saint Louis    947276.0  \n",
       "26    6-10   237.0             Kansas    981348.0  \n",
       "27    6-10   248.0         Georgetown    947276.0  \n",
       "28     6-3   205.0          Texas A&M    947276.0  \n",
       "29     6-8   221.0       Georgia Tech  11235955.0  \n",
       "..     ...     ...                ...         ...  \n",
       "428    6-9   215.0        Wake Forest   8042895.0  \n",
       "429    6-5   206.0         Notre Dame    625093.0  \n",
       "430    6-6   210.0         California    947276.0  \n",
       "431   6-10   240.0     North Carolina   6980802.0  \n",
       "432    6-9   215.0         St. John's   2894059.0  \n",
       "433    6-5   215.0               Duke   6000000.0  \n",
       "434    7-0   265.0   Central Michigan   5016000.0  \n",
       "435    7-1   245.0           Illinois   3075880.0  \n",
       "436    6-3   195.0        Weber State   4236287.0  \n",
       "437    6-4   200.0             Lehigh   2525160.0  \n",
       "438    6-7   185.0     Westchester CC    525093.0  \n",
       "439   6-11   235.0               Duke   1415520.0  \n",
       "440    6-1   173.0             Dayton   2854940.0  \n",
       "441    6-9   240.0            Indiana   2637720.0  \n",
       "442    6-8   228.0            Clemson   4775000.0  \n",
       "443    6-1   191.0           Michigan   2658240.0  \n",
       "444    6-6   214.0           Colorado   9463484.0  \n",
       "445    6-6   190.0                NaN   3777720.0  \n",
       "446   6-10   265.0       Georgia Tech  12000000.0  \n",
       "447    7-1   245.0                NaN   1175880.0  \n",
       "448    6-8   226.0             Butler  15409570.0  \n",
       "449    6-8   206.0               Duke   1348440.0  \n",
       "450    6-8   226.0                NaN   2050000.0  \n",
       "451    6-6   206.0             Dayton    981348.0  \n",
       "452   6-10   234.0           Kentucky   2239800.0  \n",
       "453    6-3   203.0             Butler   2433333.0  \n",
       "454    6-1   179.0                NaN    900000.0  \n",
       "455    7-3   256.0                NaN   2900000.0  \n",
       "456    7-0   231.0             Kansas    947276.0  \n",
       "457    NaN     NaN                NaN         NaN  \n",
       "\n",
       "[458 rows x 9 columns]>"
      ]
     },
     "execution_count": 5,
     "metadata": {},
     "output_type": "execute_result"
    }
   ],
   "source": [
    "A.tail"
   ]
  },
  {
   "cell_type": "code",
   "execution_count": 6,
   "metadata": {},
   "outputs": [
    {
     "data": {
      "text/plain": [
       "RangeIndex(start=0, stop=458, step=1)"
      ]
     },
     "execution_count": 6,
     "metadata": {},
     "output_type": "execute_result"
    }
   ],
   "source": [
    "A.index"
   ]
  },
  {
   "cell_type": "code",
   "execution_count": 7,
   "metadata": {},
   "outputs": [
    {
     "data": {
      "text/plain": [
       "array([['Avery Bradley', 'Boston Celtics', 0.0, ..., 180.0, 'Texas',\n",
       "        7730337.0],\n",
       "       ['Jae Crowder', 'Boston Celtics', 99.0, ..., 235.0, 'Marquette',\n",
       "        6796117.0],\n",
       "       ['John Holland', 'Boston Celtics', 30.0, ..., 205.0,\n",
       "        'Boston University', nan],\n",
       "       ...,\n",
       "       ['Tibor Pleiss', 'Utah Jazz', 21.0, ..., 256.0, nan, 2900000.0],\n",
       "       ['Jeff Withey', 'Utah Jazz', 24.0, ..., 231.0, 'Kansas', 947276.0],\n",
       "       [nan, nan, nan, ..., nan, nan, nan]], dtype=object)"
      ]
     },
     "execution_count": 7,
     "metadata": {},
     "output_type": "execute_result"
    }
   ],
   "source": [
    "A.values"
   ]
  },
  {
   "cell_type": "code",
   "execution_count": 10,
   "metadata": {},
   "outputs": [
    {
     "data": {
      "text/plain": [
       "(458, 9)"
      ]
     },
     "execution_count": 10,
     "metadata": {},
     "output_type": "execute_result"
    }
   ],
   "source": [
    "A.shape"
   ]
  },
  {
   "cell_type": "code",
   "execution_count": 12,
   "metadata": {},
   "outputs": [
    {
     "data": {
      "text/plain": [
       "Name         object\n",
       "Team         object\n",
       "Number      float64\n",
       "Position     object\n",
       "Age         float64\n",
       "Height       object\n",
       "Weight      float64\n",
       "College      object\n",
       "Salary      float64\n",
       "dtype: object"
      ]
     },
     "execution_count": 12,
     "metadata": {},
     "output_type": "execute_result"
    }
   ],
   "source": [
    "A.dtypes"
   ]
  },
  {
   "cell_type": "code",
   "execution_count": 13,
   "metadata": {},
   "outputs": [
    {
     "data": {
      "text/plain": [
       "float64    4\n",
       "object     5\n",
       "dtype: int64"
      ]
     },
     "execution_count": 13,
     "metadata": {},
     "output_type": "execute_result"
    }
   ],
   "source": [
    "A.get_dtype_counts()"
   ]
  },
  {
   "cell_type": "code",
   "execution_count": null,
   "metadata": {},
   "outputs": [],
   "source": []
  }
 ],
 "metadata": {
  "kernelspec": {
   "display_name": "Python 3",
   "language": "python",
   "name": "python3"
  },
  "language_info": {
   "codemirror_mode": {
    "name": "ipython",
    "version": 3
   },
   "file_extension": ".py",
   "mimetype": "text/x-python",
   "name": "python",
   "nbconvert_exporter": "python",
   "pygments_lexer": "ipython3",
   "version": "3.6.8"
  }
 },
 "nbformat": 4,
 "nbformat_minor": 2
}
