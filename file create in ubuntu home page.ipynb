{
 "cells": [
  {
   "cell_type": "code",
   "execution_count": 1,
   "metadata": {},
   "outputs": [
    {
     "name": "stdout",
     "output_type": "stream",
     "text": [
      "/home/hadoop\r\n"
     ]
    }
   ],
   "source": [
    "!pwd"
   ]
  },
  {
   "cell_type": "code",
   "execution_count": 3,
   "metadata": {},
   "outputs": [],
   "source": [
    "!mkdir vikram2"
   ]
  },
  {
   "cell_type": "code",
   "execution_count": 4,
   "metadata": {},
   "outputs": [
    {
     "name": "stdout",
     "output_type": "stream",
     "text": [
      "11th feb page 1.ipynb\r\n",
      "11th feb  page 2.ipynb\r\n",
      "12 feb page 1.ipynb\r\n",
      "12 feb page 3.ipynb\r\n",
      "12th feb page 2.ipynb\r\n",
      "13th feb page1.ipynb\r\n",
      "18feb page4.ipynb\r\n",
      "18th feb page1.ipynb\r\n",
      "18th feb page 2.ipynb\r\n",
      "18th feb page3.ipynb\r\n",
      "18th feb page5.ipynb\r\n",
      "18th feb page6.ipynb\r\n",
      "1st class page1.ipynb\r\n",
      "1st class page 2.ipynb\r\n",
      "20th feb page1 ....retrive rows by index position.ipynb\r\n",
      "21th feb  page 1.ipynb\r\n",
      "22th feb data frames2.ipynb\r\n",
      "25th feb page1 dataframe 3.ipynb\r\n",
      "27th feb.ipynb\r\n",
      "6th feb pokemon page 1.ipynb\r\n",
      "8th feb page 1.ipynb\r\n",
      "8th feb page 2.ipynb\r\n",
      "ajmat\r\n",
      "anaconda3\r\n",
      "Anaconda3-5.2.0-Linux-x86_64.sh\r\n",
      "bigmac.csv\r\n",
      "chicago.csv\r\n",
      "data\r\n",
      "Data - Multiple Worksheets.xlsx\r\n",
      "Data - Single Worksheet.xlsx\r\n",
      "Desktop\r\n",
      "Documents\r\n",
      "Downloads\r\n",
      "ecommerce.csv\r\n",
      "employees.csv\r\n",
      "examples.desktop\r\n",
      "foods.csv\r\n",
      "fortune1000.csv\r\n",
      "google_stock_price.csv\r\n",
      "hadoop-2.6.0 (1).tar.gz\r\n",
      "jamesbond.csv\r\n",
      "Music\r\n",
      "nba.csv\r\n",
      "Pictures\r\n",
      "pokemon.csv\r\n",
      "Public\r\n",
      "quarters.csv\r\n",
      "Restaurant - Customers.csv\r\n",
      "Restaurant - Foods.csv\r\n",
      "Restaurant - Week 1 Sales.csv\r\n",
      "Restaurant - Week 1 Satisfaction.csv\r\n",
      "Restaurant - Week 2 Sales.csv\r\n",
      "revenue.csv\r\n",
      "salesmen.csv\r\n",
      "Templates\r\n",
      "tmp\r\n",
      "Untitled1.ipynb\r\n",
      "Untitled3.ipynb\r\n",
      "Untitled Folder\r\n",
      "Untitled Folder 1\r\n",
      "Untitled Folder 2\r\n",
      "Untitled.ipynb\r\n",
      "Videos\r\n",
      "vikram\r\n",
      "vikram2\r\n",
      "worldstats.csv\r\n"
     ]
    }
   ],
   "source": [
    "!ls"
   ]
  },
  {
   "cell_type": "code",
   "execution_count": 5,
   "metadata": {},
   "outputs": [],
   "source": [
    "!cd vikram2"
   ]
  },
  {
   "cell_type": "code",
   "execution_count": 6,
   "metadata": {
    "collapsed": true
   },
   "outputs": [
    {
     "name": "stdout",
     "output_type": "stream",
     "text": [
      "11th feb page 1.ipynb\r\n",
      "11th feb  page 2.ipynb\r\n",
      "12 feb page 1.ipynb\r\n",
      "12 feb page 3.ipynb\r\n",
      "12th feb page 2.ipynb\r\n",
      "13th feb page1.ipynb\r\n",
      "18feb page4.ipynb\r\n",
      "18th feb page1.ipynb\r\n",
      "18th feb page 2.ipynb\r\n",
      "18th feb page3.ipynb\r\n",
      "18th feb page5.ipynb\r\n",
      "18th feb page6.ipynb\r\n",
      "1st class page1.ipynb\r\n",
      "1st class page 2.ipynb\r\n",
      "20th feb page1 ....retrive rows by index position.ipynb\r\n",
      "21th feb  page 1.ipynb\r\n",
      "22th feb data frames2.ipynb\r\n",
      "25th feb page1 dataframe 3.ipynb\r\n",
      "27th feb.ipynb\r\n",
      "6th feb pokemon page 1.ipynb\r\n",
      "8th feb page 1.ipynb\r\n",
      "8th feb page 2.ipynb\r\n",
      "ajmat\r\n",
      "anaconda3\r\n",
      "Anaconda3-5.2.0-Linux-x86_64.sh\r\n",
      "bigmac.csv\r\n",
      "chicago.csv\r\n",
      "data\r\n",
      "Data - Multiple Worksheets.xlsx\r\n",
      "Data - Single Worksheet.xlsx\r\n",
      "Desktop\r\n",
      "Documents\r\n",
      "Downloads\r\n",
      "ecommerce.csv\r\n",
      "employees.csv\r\n",
      "examples.desktop\r\n",
      "foods.csv\r\n",
      "fortune1000.csv\r\n",
      "google_stock_price.csv\r\n",
      "hadoop-2.6.0 (1).tar.gz\r\n",
      "jamesbond.csv\r\n",
      "Music\r\n",
      "nba.csv\r\n",
      "Pictures\r\n",
      "pokemon.csv\r\n",
      "Public\r\n",
      "quarters.csv\r\n",
      "Restaurant - Customers.csv\r\n",
      "Restaurant - Foods.csv\r\n",
      "Restaurant - Week 1 Sales.csv\r\n",
      "Restaurant - Week 1 Satisfaction.csv\r\n",
      "Restaurant - Week 2 Sales.csv\r\n",
      "revenue.csv\r\n",
      "salesmen.csv\r\n",
      "Templates\r\n",
      "tmp\r\n",
      "Untitled1.ipynb\r\n",
      "Untitled3.ipynb\r\n",
      "Untitled Folder\r\n",
      "Untitled Folder 1\r\n",
      "Untitled Folder 2\r\n",
      "Untitled.ipynb\r\n",
      "Videos\r\n",
      "vikram\r\n",
      "vikram2\r\n",
      "worldstats.csv\r\n"
     ]
    }
   ],
   "source": [
    "!ls"
   ]
  },
  {
   "cell_type": "code",
   "execution_count": 7,
   "metadata": {},
   "outputs": [],
   "source": [
    "! touch vikram2/abc.txt"
   ]
  },
  {
   "cell_type": "code",
   "execution_count": null,
   "metadata": {},
   "outputs": [],
   "source": []
  }
 ],
 "metadata": {
  "kernelspec": {
   "display_name": "Python 3",
   "language": "python",
   "name": "python3"
  },
  "language_info": {
   "codemirror_mode": {
    "name": "ipython",
    "version": 3
   },
   "file_extension": ".py",
   "mimetype": "text/x-python",
   "name": "python",
   "nbconvert_exporter": "python",
   "pygments_lexer": "ipython3",
   "version": "3.6.8"
  }
 },
 "nbformat": 4,
 "nbformat_minor": 2
}
